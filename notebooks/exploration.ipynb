{
 "cells": [
  {
   "cell_type": "code",
   "execution_count": 38,
   "metadata": {},
   "outputs": [],
   "source": [
    "from typing import List, Tuple\n",
    "import csv\n",
    "import random\n",
    "import json\n",
    "\n",
    "import networkx as nx\n",
    "import numpy as np\n",
    "import matplotlib.pyplot as plt\n",
    "from tqdm import tqdm\n",
    "from sklearn.linear_model import LogisticRegression\n",
    "from sklearn.metrics import roc_auc_score, roc_curve, auc"
   ]
  },
  {
   "cell_type": "markdown",
   "metadata": {},
   "source": [
    "# Import graph"
   ]
  },
  {
   "cell_type": "code",
   "execution_count": 2,
   "metadata": {},
   "outputs": [],
   "source": [
    "def create_graph(node_list: List[int], edges_dataset: List[Tuple[str, str, str]]) -> nx.Graph:\n",
    "    \"\"\"Create graph from list of nodes and list of edges\n",
    "\n",
    "    Args:\n",
    "        node_list (List[int]): List of nodes\n",
    "        edges_dataset (List[Tuple[str, str, str]]): List of edges\n",
    "\n",
    "    Returns:\n",
    "        nx.Graph: Created graph\n",
    "    \"\"\"\n",
    "    graph = nx.Graph()\n",
    "    for node in node_list:\n",
    "        graph.add_node(node)\n",
    "    for source, target, label in edges_dataset:\n",
    "        if label == '1':\n",
    "            graph.add_edge(source, target)\n",
    "    return graph"
   ]
  },
  {
   "cell_type": "code",
   "execution_count": 3,
   "metadata": {},
   "outputs": [],
   "source": [
    "with open(\"node_information.csv\", \"r\") as f:\n",
    "    reader = csv.reader(f)\n",
    "    node_info  = list(reader)\n",
    "\n",
    "nodes = [element[0] for element in node_info]\n",
    "\n",
    "with open(\"training_set.txt\", \"r\") as f:\n",
    "    reader = csv.reader(f, delimiter=\" \", )\n",
    "    train_dataset = list(reader)\n"
   ]
  },
  {
   "cell_type": "code",
   "execution_count": 4,
   "metadata": {},
   "outputs": [
    {
     "name": "stdout",
     "output_type": "stream",
     "text": [
      "334690 edges and 27770 nodes.\n"
     ]
    }
   ],
   "source": [
    "graph = create_graph(nodes, train_dataset)\n",
    "print(f\"{graph.number_of_edges()} edges and {graph.number_of_nodes()} nodes.\")"
   ]
  },
  {
   "cell_type": "code",
   "execution_count": 5,
   "metadata": {},
   "outputs": [],
   "source": [
    "def make_sub_graphs(graph):\n",
    "    sub_graphs = []\n",
    "    for connected_component in nx.connected_components(graph):\n",
    "        sub_graphs.append(nx.subgraph(graph, connected_component))\n",
    "    return sub_graphs"
   ]
  },
  {
   "cell_type": "code",
   "execution_count": 6,
   "metadata": {},
   "outputs": [],
   "source": [
    "sub_graphs = make_sub_graphs(graph)"
   ]
  },
  {
   "cell_type": "code",
   "execution_count": 7,
   "metadata": {},
   "outputs": [],
   "source": [
    "number_of_nodes = [graph.number_of_nodes() for graph in sub_graphs]"
   ]
  },
  {
   "cell_type": "code",
   "execution_count": 8,
   "metadata": {},
   "outputs": [
    {
     "data": {
      "text/plain": [
       "(array([ 86., 101.,  31.,   8.,   7.,   2.,   1.,   1.,   0.,   1.]),\n",
       " array([ 1. ,  1.9,  2.8,  3.7,  4.6,  5.5,  6.4,  7.3,  8.2,  9.1, 10. ]),\n",
       " <BarContainer object of 10 artists>)"
      ]
     },
     "execution_count": 8,
     "metadata": {},
     "output_type": "execute_result"
    },
    {
     "data": {
      "image/png": "[encoded data removed]",
      "text/plain": [
       "<Figure size 432x288 with 1 Axes>"
      ]
     },
     "metadata": {
      "needs_background": "light"
     },
     "output_type": "display_data"
    }
   ],
   "source": [
    "plt.hist(number_of_nodes[1:])"
   ]
  },
  {
   "cell_type": "markdown",
   "metadata": {},
   "source": [
    "On garde que le premier composant connecté pour le moment."
   ]
  },
  {
   "cell_type": "code",
   "execution_count": 9,
   "metadata": {},
   "outputs": [],
   "source": [
    "sub_graph = sub_graphs[0]"
   ]
  },
  {
   "cell_type": "code",
   "execution_count": 10,
   "metadata": {},
   "outputs": [],
   "source": [
    "def sample_non_edges(graph, n_sample):\n",
    "    samples = []\n",
    "    nodes = list(graph.nodes())\n",
    "    edges = list(graph.edges())\n",
    "    while len(samples) < n_sample:\n",
    "        source, target = random.sample(nodes, 2)\n",
    "        if (source, target) not in edges:\n",
    "            samples.append((source, target))\n",
    "    \n",
    "    return samples"
   ]
  },
  {
   "cell_type": "code",
   "execution_count": 20,
   "metadata": {},
   "outputs": [],
   "source": [
    "def take_sub_graph(graph, ratio):\n",
    "    nodes = list(graph.nodes())\n",
    "    np.random.shuffle(nodes)\n",
    "    sub_graph = graph.subgraph(nodes[:int(len(nodes) * ratio)])\n",
    "    sub_graphs = make_sub_graphs(sub_graph)\n",
    "    sub_graphs = sorted(sub_graphs, key=lambda graph:graph.number_of_nodes(), reverse=True)\n",
    "    return sub_graphs[0]"
   ]
  },
  {
   "cell_type": "code",
   "execution_count": 21,
   "metadata": {},
   "outputs": [],
   "source": [
    "sub_graph = take_sub_graph(sub_graph, 0.4)"
   ]
  },
  {
   "cell_type": "code",
   "execution_count": 19,
   "metadata": {},
   "outputs": [],
   "source": [
    "def generate_samples(graph, train_set_ratio):\n",
    "    \"\"\"\n",
    "    Graph pre-processing step required to perform supervised link prediction\n",
    "    Create training and test sets\n",
    "    \"\"\"\n",
    "        \n",
    "    # --- Step 0: The graph must be connected ---\n",
    "    if nx.is_connected(graph) is not True:\n",
    "        raise ValueError(\"The graph contains more than one connected component!\")\n",
    "       \n",
    "    \n",
    "    # --- Step 1: Generate positive edge samples for testing set ---\n",
    "    residual_g = graph.copy()\n",
    "    test_pos_samples = []\n",
    "      \n",
    "    # Shuffle the list of edges\n",
    "    edges = list(residual_g.edges())\n",
    "    np.random.shuffle(edges)\n",
    "    \n",
    "    # Define number of positive samples desired\n",
    "    test_set_size = int((1.0 - train_set_ratio) * graph.number_of_edges())\n",
    "    num_of_pos_test_samples = 0\n",
    "    \n",
    "    # Remove random edges from the graph, leaving it connected\n",
    "    # Fill in the blanks\n",
    "\n",
    "    i = 0\n",
    "    with tqdm(total=test_set_size) as pbar:\n",
    "        while len(test_pos_samples) < test_set_size:\n",
    "            residual_g.remove_edge(edges[i][0], edges[i][1])\n",
    "            if nx.is_connected(residual_g):\n",
    "                test_pos_samples.append(edges[i])\n",
    "                num_of_pos_test_samples += 1\n",
    "                pbar.update(1)\n",
    "            else:\n",
    "                residual_g.add_edge(edges[i][0], edges[i][1])\n",
    "            i += 1\n",
    "    \n",
    "\n",
    "    # Check if we have the desired number of positive samples for testing set \n",
    "    if num_of_pos_test_samples != test_set_size:\n",
    "        raise ValueError(\"Enough positive edge samples could not be found!\")\n",
    "\n",
    "        \n",
    "    # --- Step 2: Generate positive edge samples for training set ---\n",
    "    # The remaining edges are simply considered for positive samples of the training set\n",
    "    train_pos_samples = list(residual_g.edges())\n",
    "        \n",
    "        \n",
    "    # --- Step 3: Generate the negative samples for testing and training sets ---\n",
    "    # Fill in the blanks\n",
    "\n",
    "    train_neg_samples = sample_non_edges(graph, len(train_pos_samples))\n",
    "    test_neg_samples = sample_non_edges(graph, len(test_pos_samples))\n",
    "\n",
    "    \n",
    "    # --- Step 4: Combine sample lists and create corresponding labels ---\n",
    "    # For training set\n",
    "    train_samples = train_pos_samples + train_neg_samples\n",
    "    train_labels = [1 for _ in train_pos_samples] + [0 for _ in train_neg_samples]\n",
    "    # For testing set\n",
    "    test_samples = test_pos_samples + test_neg_samples\n",
    "    test_labels = [1 for _ in test_pos_samples] + [0 for _ in test_neg_samples]\n",
    "    \n",
    "    return residual_g, train_samples, train_labels, test_samples, test_labels"
   ]
  },
  {
   "cell_type": "code",
   "execution_count": 22,
   "metadata": {},
   "outputs": [
    {
     "name": "stderr",
     "output_type": "stream",
     "text": [
      "100%|██████████| 10819/10819 [05:48<00:00, 31.05it/s]\n"
     ]
    }
   ],
   "source": [
    "residual_g, train_samples, train_labels, test_samples, test_labels = generate_samples(graph=sub_graph, train_set_ratio=0.80)"
   ]
  },
  {
   "cell_type": "code",
   "execution_count": 25,
   "metadata": {},
   "outputs": [],
   "source": [
    "import os\n",
    "os.makedirs(\"./data\")\n",
    "nx.write_gml(residual_g, \"./data/residual_graph.gml\")"
   ]
  },
  {
   "cell_type": "code",
   "execution_count": 28,
   "metadata": {},
   "outputs": [],
   "source": [
    "with open(\"./data/training_data.json\", \"w\") as file:\n",
    "    json.dump(\n",
    "        {\n",
    "            \"train_samples\": train_samples,\n",
    "            \"train_labels\": train_labels,\n",
    "            \"test_samples\": test_samples,\n",
    "            \"test_labels\": test_labels\n",
    "        }, file\n",
    "    )"
   ]
  },
  {
   "cell_type": "code",
   "execution_count": 34,
   "metadata": {},
   "outputs": [],
   "source": [
    "def feature_extractor(graph, deg_centrality, samples):\n",
    "    \"\"\"\n",
    "    Creates a feature vector for each edge of the graph contained in samples \n",
    "    \"\"\"\n",
    "    feature_vector = [] \n",
    "    \n",
    "    # --- Extract manually diverse features relative to each edge contained in samples --- \n",
    "\n",
    "    for edge in tqdm(samples):\n",
    "        source_node, target_node = edge[0], edge[1]\n",
    "\n",
    "        # Degree Centrality\n",
    "        source_degree_centrality = deg_centrality[source_node]\n",
    "        target_degree_centrality = deg_centrality[target_node]\n",
    "        \n",
    "        # Betweeness centrality  \n",
    "        # diff_bt = betweeness_centrality[target_node] - betweeness_centrality[source_node]\n",
    "\n",
    "        # Preferential Attachement \n",
    "        pref_attach = list(nx.preferential_attachment(graph, [(source_node, target_node)]))[0][2]\n",
    "\n",
    "        # AdamicAdar\n",
    "        aai = list(nx.adamic_adar_index(graph, [edge]))[0][-1]\n",
    "\n",
    "        # Jaccard\n",
    "        jacard_coeff = list(nx.jaccard_coefficient(graph, [edge]))[0][-1]\n",
    "        \n",
    "        # Create edge feature vector with all metric computed above\n",
    "        feature_vector.append(np.array([source_degree_centrality, target_degree_centrality, \n",
    "                                        pref_attach, aai, jacard_coeff])) \n",
    "        \n",
    "    return feature_vector"
   ]
  },
  {
   "cell_type": "code",
   "execution_count": 42,
   "metadata": {},
   "outputs": [],
   "source": [
    "deg_centrality = nx.degree_centrality(graph)"
   ]
  },
  {
   "cell_type": "code",
   "execution_count": 43,
   "metadata": {},
   "outputs": [
    {
     "name": "stderr",
     "output_type": "stream",
     "text": [
      "100%|██████████| 86554/86554 [01:44<00:00, 827.47it/s] \n"
     ]
    }
   ],
   "source": [
    "train_features = feature_extractor(sub_graph, deg_centrality, train_samples)"
   ]
  },
  {
   "cell_type": "code",
   "execution_count": 44,
   "metadata": {},
   "outputs": [
    {
     "name": "stderr",
     "output_type": "stream",
     "text": [
      "100%|██████████| 21638/21638 [00:25<00:00, 857.66it/s] \n"
     ]
    }
   ],
   "source": [
    "test_features = feature_extractor(sub_graph, deg_centrality, test_samples)"
   ]
  },
  {
   "cell_type": "code",
   "execution_count": 47,
   "metadata": {},
   "outputs": [],
   "source": [
    "def prediction(graph, train_features, test_features, train_labels, test_labels):\n",
    "    \"\"\"\n",
    "    Downstream ML task using edge embeddings to classify them \n",
    "    \"\"\"\n",
    "    \n",
    "    # --- Build the model and train it ---\n",
    "    # Fill in the blanks\n",
    "    \n",
    "    lr = LogisticRegression()\n",
    "    lr.fit(train_features, train_labels)\n",
    "    \n",
    "    train_preds = lr.predict_proba(train_features)[:, 1]\n",
    "    test_preds = lr.predict_proba(test_features)[:, 1]\n",
    "    \n",
    "    print(test_preds)\n",
    "\n",
    "    # --- Compute Area Under the Receiver Operating Characteristic Curve (ROC AUC) from predictions ---\n",
    "    # Fill in the blanks\n",
    "    fpr, tpr, _ = roc_curve(test_labels, test_preds)\n",
    "    roc_auc = roc_auc_score(test_labels, test_preds)\n",
    "    \n",
    "    plt.figure(figsize=(6,6))\n",
    "    plt.plot(fpr, tpr, color='darkred', label='ROC curve (area = %0.3f)' % roc_auc)\n",
    "    plt.plot([0, 1], [0, 1], color='lightgray', linestyle='--')\n",
    "    plt.xlim([0.0, 1.0])\n",
    "    plt.ylim([0.0, 1.05])\n",
    "    plt.xlabel('False Positive Rate')\n",
    "    plt.ylabel('True Positive Rate')\n",
    "    plt.title('Receiver Operating Characteristic Curve')\n",
    "    plt.legend(loc=\"lower right\")\n",
    "    plt.show()\n",
    "    \n",
    "    return lr, roc_auc"
   ]
  },
  {
   "cell_type": "code",
   "execution_count": 48,
   "metadata": {},
   "outputs": [
    {
     "name": "stdout",
     "output_type": "stream",
     "text": [
      "[0.97362124 0.99999999 0.9999628  ... 0.13438416 0.13076422 0.13438421]\n"
     ]
    },
    {
     "data": {
      "image/png": "[encoded data removed]",
      "text/plain": [
       "<Figure size 432x432 with 1 Axes>"
      ]
     },
     "metadata": {
      "needs_background": "light"
     },
     "output_type": "display_data"
    }
   ],
   "source": [
    "# --- Link prediction ---\n",
    "lr, roc_auc = prediction(sub_graph, train_features, test_features, train_labels, test_labels)"
   ]
  },
  {
   "cell_type": "code",
   "execution_count": 49,
   "metadata": {},
   "outputs": [
    {
     "data": {
      "text/plain": [
       "0.9290599870598022"
      ]
     },
     "execution_count": 49,
     "metadata": {},
     "output_type": "execute_result"
    }
   ],
   "source": [
    "lr.score(test_features, test_labels)"
   ]
  },
  {
   "cell_type": "code",
   "execution_count": 51,
   "metadata": {},
   "outputs": [],
   "source": [
    "from sklearn.metrics import f1_score"
   ]
  },
  {
   "cell_type": "code",
   "execution_count": 55,
   "metadata": {},
   "outputs": [],
   "source": [
    "test_preds = lr.predict(test_features)"
   ]
  },
  {
   "cell_type": "code",
   "execution_count": 56,
   "metadata": {},
   "outputs": [
    {
     "data": {
      "text/plain": [
       "0.9251402097049501"
      ]
     },
     "execution_count": 56,
     "metadata": {},
     "output_type": "execute_result"
    }
   ],
   "source": [
    "f1_score(test_labels, test_preds)"
   ]
  }
 ],
 "metadata": {
  "interpreter": {
   "hash": "0c5c16a795e78dbd8789063ca49b148d7f66d65ea2e59d40746c1e781c09b2f1"
  },
  "kernelspec": {
   "display_name": "Python 3.9.10 64-bit ('mlns')",
   "language": "python",
   "name": "python3"
  },
  "language_info": {
   "codemirror_mode": {
    "name": "ipython",
    "version": 3
   },
   "file_extension": ".py",
   "mimetype": "text/x-python",
   "name": "python",
   "nbconvert_exporter": "python",
   "pygments_lexer": "ipython3",
   "version": "3.9.10"
  },
  "orig_nbformat": 4
 },
 "nbformat": 4,
 "nbformat_minor": 2
}
