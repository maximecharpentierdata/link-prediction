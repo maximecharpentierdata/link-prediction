{
 "cells": [
  {
   "cell_type": "code",
   "execution_count": 1,
   "metadata": {},
   "outputs": [],
   "source": [
    "import sys\n",
    "import csv\n",
    "import os\n",
    "\n",
    "from sklearn.linear_model import LogisticRegression\n",
    "from sklearn.metrics import roc_auc_score, roc_curve, f1_score\n",
    "import matplotlib.pyplot as plt\n",
    "import pandas as pd\n",
    "import torch.nn as nn\n",
    "import torch\n",
    "from torch.utils.data import TensorDataset, DataLoader\n",
    "import numpy as np\n",
    "from tqdm import tqdm\n",
    "\n",
    "\n",
    "sys.path.append(\"../\")\n",
    "from src.graph_preprocessing import load_graph_data, create_graph\n",
    "from src.features_extraction import (\n",
    "    feature_extractor, graph_feature_extractor, run_graph_learning,\n",
    "    metadata_features_extractor, abstract_extractor_reduced, abstract_extractor_complete, graph_learned_features_extractor\n",
    ")"
   ]
  },
  {
   "cell_type": "code",
   "execution_count": 2,
   "metadata": {},
   "outputs": [],
   "source": [
    "%load_ext autoreload\n",
    "%autoreload 2"
   ]
  },
  {
   "cell_type": "code",
   "execution_count": 3,
   "metadata": {},
   "outputs": [],
   "source": [
    "with open(\"../data/node_information.csv\", \"r\") as f:\n",
    "    reader = csv.reader(f)\n",
    "    node_info = list(reader)\n",
    "\n",
    "nodes = [element[0] for element in node_info]\n",
    "\n",
    "with open(\"../data/training_set.txt\", \"r\") as f:\n",
    "    reader = csv.reader(\n",
    "        f,\n",
    "        delimiter=\" \",\n",
    "    )\n",
    "    train_dataset = list(reader)\n",
    "\n",
    "full_graph = create_graph(nodes, train_dataset)"
   ]
  },
  {
   "cell_type": "code",
   "execution_count": 4,
   "metadata": {},
   "outputs": [],
   "source": [
    "wv = run_graph_learning(full_graph)"
   ]
  },
  {
   "cell_type": "code",
   "execution_count": 5,
   "metadata": {},
   "outputs": [],
   "source": [
    "sub_graph, residual_g, train_samples, train_labels, test_samples, test_labels = load_graph_data(\"../experiments/1.0_0.8\")"
   ]
  },
  {
   "cell_type": "code",
   "execution_count": 6,
   "metadata": {},
   "outputs": [
    {
     "name": "stderr",
     "output_type": "stream",
     "text": [
      "100%|██████████| 535038/535038 [01:35<00:00, 5616.77it/s]\n",
      "100%|██████████| 535038/535038 [00:56<00:00, 9537.05it/s] \n",
      "100%|██████████| 535038/535038 [00:01<00:00, 483946.46it/s]\n",
      "100%|██████████| 535038/535038 [01:25<00:00, 6231.89it/s]\n",
      "100%|██████████| 133758/133758 [00:24<00:00, 5478.97it/s]\n",
      "100%|██████████| 133758/133758 [00:19<00:00, 6860.78it/s] \n",
      "100%|██████████| 133758/133758 [00:00<00:00, 348863.08it/s]\n",
      "100%|██████████| 133758/133758 [00:25<00:00, 5317.93it/s]\n"
     ]
    }
   ],
   "source": [
    "features_method = [metadata_features_extractor, graph_feature_extractor, graph_learned_features_extractor, abstract_extractor_reduced]\n",
    "\n",
    "train_features = feature_extractor(\n",
    "    sub_graph, train_samples, \n",
    "    features_method, \n",
    "    node_information_path=\"../data/node_information.csv\", wv=wv\n",
    ")\n",
    "test_features = feature_extractor(\n",
    "    sub_graph, test_samples, \n",
    "    features_method, \n",
    "    node_information_path=\"../data/node_information.csv\", wv=wv\n",
    ")"
   ]
  },
  {
   "cell_type": "code",
   "execution_count": 7,
   "metadata": {},
   "outputs": [
    {
     "data": {
      "text/plain": [
       "(535038, 41)"
      ]
     },
     "execution_count": 7,
     "metadata": {},
     "output_type": "execute_result"
    }
   ],
   "source": [
    "train_features.shape"
   ]
  },
  {
   "cell_type": "markdown",
   "metadata": {},
   "source": [
    "# Classification"
   ]
  },
  {
   "cell_type": "code",
   "execution_count": 8,
   "metadata": {},
   "outputs": [],
   "source": [
    "def make_classification_model(input_features):\n",
    "    model = nn.Sequential(\n",
    "            nn.Linear(input_features, 50),\n",
    "            nn.ReLU(),\n",
    "            nn.Linear(50, 50),\n",
    "            nn.ReLU(),\n",
    "            nn.Linear(50, 1),\n",
    "            nn.Sigmoid()\n",
    "    )\n",
    "    optimizer = torch.optim.Adam(model.parameters())\n",
    "    loss_fn = nn.BCELoss()\n",
    "    return model, optimizer, loss_fn"
   ]
  },
  {
   "cell_type": "code",
   "execution_count": 9,
   "metadata": {},
   "outputs": [],
   "source": [
    "model, optimizer, loss_fn = make_classification_model(train_features.shape[1])"
   ]
  },
  {
   "cell_type": "code",
   "execution_count": 10,
   "metadata": {},
   "outputs": [],
   "source": [
    "train_tensor_features = torch.Tensor(train_features)\n",
    "train_tensor_labels = torch.Tensor(train_labels)[..., None]#.type(torch.LongTensor)\n",
    "\n",
    "train_dataset = TensorDataset(train_tensor_features, train_tensor_labels)\n",
    "train_loader = DataLoader(train_dataset, batch_size=32, shuffle=True)\n",
    "\n",
    "test_tensor_features = torch.Tensor(test_features)\n",
    "test_tensor_labels = torch.Tensor(test_labels)[..., None]#.type(torch.LongTensor)\n",
    "\n",
    "test_dataset = TensorDataset(test_tensor_features,test_tensor_labels)\n",
    "test_loader = DataLoader(test_dataset, batch_size=1, shuffle=False)"
   ]
  },
  {
   "cell_type": "code",
   "execution_count": 11,
   "metadata": {},
   "outputs": [],
   "source": [
    "def train(dataloader, model, loss_fn, optimizer):\n",
    "    size = len(dataloader)\n",
    "    model.train()\n",
    "    losses = []\n",
    "    with tqdm(enumerate(dataloader), total=size) as pbar:\n",
    "        for batch, (X, y) in enumerate(dataloader):\n",
    "            # Compute prediction error\n",
    "            pred = model(X)\n",
    "            loss = loss_fn(pred, y)\n",
    "\n",
    "            # Backpropagation\n",
    "            optimizer.zero_grad()\n",
    "            loss.backward()\n",
    "            optimizer.step()\n",
    "            pbar.update(1)\n",
    "\n",
    "            if batch % 100 == 0:\n",
    "                losses.append(loss.item())\n",
    "                pbar.set_description(str(loss.item()))\n",
    "    return losses"
   ]
  },
  {
   "cell_type": "code",
   "execution_count": 12,
   "metadata": {},
   "outputs": [],
   "source": [
    "def test(dataloader, model, loss_fn):\n",
    "    size = len(dataloader.dataset)\n",
    "    model.eval()\n",
    "    losses = []\n",
    "    for batch, (X, y) in tqdm(enumerate(dataloader), total=size):\n",
    "        # Compute prediction error\n",
    "        pred = model(X)\n",
    "        loss = loss_fn(pred, y)\n",
    "\n",
    "        if batch % 100 == 0:\n",
    "            losses.append(loss.item())\n",
    "    return losses"
   ]
  },
  {
   "cell_type": "code",
   "execution_count": 13,
   "metadata": {},
   "outputs": [
    {
     "name": "stdout",
     "output_type": "stream",
     "text": [
      "Epoch 0/30...\n"
     ]
    },
    {
     "name": "stderr",
     "output_type": "stream",
     "text": [
      "0.30003777146339417: 100%|██████████| 16720/16720 [00:08<00:00, 2072.50it/s] \n",
      "100%|██████████| 133758/133758 [00:08<00:00, 15083.30it/s]\n"
     ]
    },
    {
     "name": "stdout",
     "output_type": "stream",
     "text": [
      "Train  1.2684889679907687\n",
      "Test  0.1107005772807524\n",
      "Epoch 1/30...\n"
     ]
    },
    {
     "name": "stderr",
     "output_type": "stream",
     "text": [
      "0.024749385192990303: 100%|██████████| 16720/16720 [00:07<00:00, 2162.68it/s]\n",
      "100%|██████████| 133758/133758 [00:08<00:00, 15510.81it/s]\n"
     ]
    },
    {
     "name": "stdout",
     "output_type": "stream",
     "text": [
      "Train  0.16711121326079592\n",
      "Test  0.07049630312880013\n",
      "Epoch 2/30...\n"
     ]
    },
    {
     "name": "stderr",
     "output_type": "stream",
     "text": [
      "0.17583107948303223: 100%|██████████| 16720/16720 [00:07<00:00, 2129.83it/s] \n",
      "100%|██████████| 133758/133758 [00:08<00:00, 15398.70it/s]\n"
     ]
    },
    {
     "name": "stdout",
     "output_type": "stream",
     "text": [
      "Train  0.185404593831793\n",
      "Test  0.06370936014979754\n",
      "Epoch 3/30...\n"
     ]
    },
    {
     "name": "stderr",
     "output_type": "stream",
     "text": [
      "0.18398301303386688: 100%|██████████| 16720/16720 [00:07<00:00, 2150.25it/s]  \n",
      "100%|██████████| 133758/133758 [00:08<00:00, 15461.40it/s]\n"
     ]
    },
    {
     "name": "stdout",
     "output_type": "stream",
     "text": [
      "Train  0.12411204040593778\n",
      "Test  0.12129584792090504\n",
      "Epoch 4/30...\n"
     ]
    },
    {
     "name": "stderr",
     "output_type": "stream",
     "text": [
      "0.26249656081199646: 100%|██████████| 16720/16720 [00:07<00:00, 2244.66it/s]  \n",
      "100%|██████████| 133758/133758 [00:08<00:00, 16256.74it/s]\n"
     ]
    },
    {
     "name": "stdout",
     "output_type": "stream",
     "text": [
      "Train  0.1879513150058864\n",
      "Test  0.0824097099748091\n",
      "Epoch 5/30...\n"
     ]
    },
    {
     "name": "stderr",
     "output_type": "stream",
     "text": [
      "0.4964580833911896: 100%|██████████| 16720/16720 [00:07<00:00, 2251.58it/s]  \n",
      "100%|██████████| 133758/133758 [00:08<00:00, 15743.62it/s]\n"
     ]
    },
    {
     "name": "stdout",
     "output_type": "stream",
     "text": [
      "Train  0.08822169752481084\n",
      "Test  0.10797063380499843\n",
      "Epoch 6/30...\n"
     ]
    },
    {
     "name": "stderr",
     "output_type": "stream",
     "text": [
      "0.030983351171016693: 100%|██████████| 16720/16720 [00:07<00:00, 2228.98it/s]\n",
      "100%|██████████| 133758/133758 [00:08<00:00, 16537.80it/s]\n"
     ]
    },
    {
     "name": "stdout",
     "output_type": "stream",
     "text": [
      "Train  0.10956491058736685\n",
      "Test  0.06323887170637302\n",
      "Epoch 7/30...\n"
     ]
    },
    {
     "name": "stderr",
     "output_type": "stream",
     "text": [
      "0.13041672110557556: 100%|██████████| 16720/16720 [00:07<00:00, 2243.38it/s] \n",
      "100%|██████████| 133758/133758 [00:07<00:00, 16746.58it/s]\n"
     ]
    },
    {
     "name": "stdout",
     "output_type": "stream",
     "text": [
      "Train  0.09266616638827448\n",
      "Test  0.06633411346710139\n",
      "Epoch 8/30...\n"
     ]
    },
    {
     "name": "stderr",
     "output_type": "stream",
     "text": [
      "0.23414967954158783: 100%|██████████| 16720/16720 [00:07<00:00, 2201.28it/s]  \n",
      "100%|██████████| 133758/133758 [00:07<00:00, 16914.46it/s]\n"
     ]
    },
    {
     "name": "stdout",
     "output_type": "stream",
     "text": [
      "Train  0.10455042479415647\n",
      "Test  0.08313234458440191\n",
      "Epoch 9/30...\n"
     ]
    },
    {
     "name": "stderr",
     "output_type": "stream",
     "text": [
      "0.06617583334445953: 100%|██████████| 16720/16720 [00:07<00:00, 2285.43it/s] \n",
      "100%|██████████| 133758/133758 [00:08<00:00, 16278.15it/s]\n"
     ]
    },
    {
     "name": "stdout",
     "output_type": "stream",
     "text": [
      "Train  0.15609669147635855\n",
      "Test  0.07055625322918609\n",
      "Epoch 10/30...\n"
     ]
    },
    {
     "name": "stderr",
     "output_type": "stream",
     "text": [
      "0.04247511550784111: 100%|██████████| 16720/16720 [00:07<00:00, 2272.32it/s]  \n",
      "100%|██████████| 133758/133758 [00:08<00:00, 16490.42it/s]\n"
     ]
    },
    {
     "name": "stdout",
     "output_type": "stream",
     "text": [
      "Train  0.08772219700594655\n",
      "Test  0.06415416015941153\n",
      "Epoch 11/30...\n"
     ]
    },
    {
     "name": "stderr",
     "output_type": "stream",
     "text": [
      "3.232442617416382: 100%|██████████| 16720/16720 [00:07<00:00, 2281.34it/s]   \n",
      "100%|██████████| 133758/133758 [00:08<00:00, 16539.55it/s]\n"
     ]
    },
    {
     "name": "stdout",
     "output_type": "stream",
     "text": [
      "Train  0.1028788017463826\n",
      "Test  0.11850127432534506\n",
      "Epoch 12/30...\n"
     ]
    },
    {
     "name": "stderr",
     "output_type": "stream",
     "text": [
      "0.04973343759775162: 100%|██████████| 16720/16720 [00:07<00:00, 2268.73it/s] \n",
      "100%|██████████| 133758/133758 [00:08<00:00, 16138.91it/s]\n"
     ]
    },
    {
     "name": "stdout",
     "output_type": "stream",
     "text": [
      "Train  0.07705066939871315\n",
      "Test  0.07995238934552328\n",
      "Epoch 13/30...\n"
     ]
    },
    {
     "name": "stderr",
     "output_type": "stream",
     "text": [
      "0.04859711602330208: 100%|██████████| 16720/16720 [00:07<00:00, 2198.26it/s] \n",
      "100%|██████████| 133758/133758 [00:08<00:00, 15484.07it/s]\n"
     ]
    },
    {
     "name": "stdout",
     "output_type": "stream",
     "text": [
      "Train  0.11287972709951213\n",
      "Test  0.07830046254940153\n",
      "Epoch 14/30...\n"
     ]
    },
    {
     "name": "stderr",
     "output_type": "stream",
     "text": [
      "0.018409427255392075: 100%|██████████| 16720/16720 [00:07<00:00, 2225.12it/s]\n",
      "100%|██████████| 133758/133758 [00:08<00:00, 15667.39it/s]\n"
     ]
    },
    {
     "name": "stdout",
     "output_type": "stream",
     "text": [
      "Train  0.09606962691205331\n",
      "Test  0.0659259775618492\n",
      "Epoch 15/30...\n"
     ]
    },
    {
     "name": "stderr",
     "output_type": "stream",
     "text": [
      "0.037055663764476776: 100%|██████████| 16720/16720 [00:07<00:00, 2187.70it/s]\n",
      "100%|██████████| 133758/133758 [00:08<00:00, 15801.85it/s]\n"
     ]
    },
    {
     "name": "stdout",
     "output_type": "stream",
     "text": [
      "Train  0.08449474471576866\n",
      "Test  0.07429116418964765\n",
      "Epoch 16/30...\n"
     ]
    },
    {
     "name": "stderr",
     "output_type": "stream",
     "text": [
      "0.02597060613334179: 100%|██████████| 16720/16720 [00:07<00:00, 2243.64it/s]  \n",
      "100%|██████████| 133758/133758 [00:08<00:00, 16054.62it/s]\n"
     ]
    },
    {
     "name": "stdout",
     "output_type": "stream",
     "text": [
      "Train  0.08971262820081652\n",
      "Test  0.06432308171760372\n",
      "Epoch 17/30...\n"
     ]
    },
    {
     "name": "stderr",
     "output_type": "stream",
     "text": [
      "0.035263486206531525: 100%|██████████| 16720/16720 [00:07<00:00, 2227.11it/s] \n",
      "100%|██████████| 133758/133758 [00:08<00:00, 15978.48it/s]\n"
     ]
    },
    {
     "name": "stdout",
     "output_type": "stream",
     "text": [
      "Train  0.08197876390546471\n",
      "Test  0.062194822373095454\n",
      "Epoch 18/30...\n"
     ]
    },
    {
     "name": "stderr",
     "output_type": "stream",
     "text": [
      "0.013000169768929482: 100%|██████████| 16720/16720 [00:07<00:00, 2266.54it/s]\n",
      "100%|██████████| 133758/133758 [00:08<00:00, 16048.86it/s]\n"
     ]
    },
    {
     "name": "stdout",
     "output_type": "stream",
     "text": [
      "Train  0.08139686653157696\n",
      "Test  0.06607728989827831\n",
      "Epoch 19/30...\n"
     ]
    },
    {
     "name": "stderr",
     "output_type": "stream",
     "text": [
      "0.006741096265614033: 100%|██████████| 16720/16720 [00:07<00:00, 2200.72it/s]\n",
      "100%|██████████| 133758/133758 [00:08<00:00, 15448.28it/s]\n"
     ]
    },
    {
     "name": "stdout",
     "output_type": "stream",
     "text": [
      "Train  0.08725163110509693\n",
      "Test  0.08192076061033705\n",
      "Epoch 20/30...\n"
     ]
    },
    {
     "name": "stderr",
     "output_type": "stream",
     "text": [
      "0.01277991570532322: 100%|██████████| 16720/16720 [00:08<00:00, 2057.56it/s]  \n",
      "100%|██████████| 133758/133758 [00:08<00:00, 16038.41it/s]\n"
     ]
    },
    {
     "name": "stdout",
     "output_type": "stream",
     "text": [
      "Train  0.1041294246623736\n",
      "Test  0.08067389786529912\n",
      "Epoch 21/30...\n"
     ]
    },
    {
     "name": "stderr",
     "output_type": "stream",
     "text": [
      "0.23941485583782196: 100%|██████████| 16720/16720 [00:07<00:00, 2225.68it/s] \n",
      "100%|██████████| 133758/133758 [00:08<00:00, 15766.20it/s]\n"
     ]
    },
    {
     "name": "stdout",
     "output_type": "stream",
     "text": [
      "Train  0.08384671686716112\n",
      "Test  0.0634406285589446\n",
      "Epoch 22/30...\n"
     ]
    },
    {
     "name": "stderr",
     "output_type": "stream",
     "text": [
      "0.04333784431219101: 100%|██████████| 16720/16720 [00:07<00:00, 2197.51it/s] \n",
      "100%|██████████| 133758/133758 [00:08<00:00, 15384.32it/s]\n"
     ]
    },
    {
     "name": "stdout",
     "output_type": "stream",
     "text": [
      "Train  0.07598415778539631\n",
      "Test  0.31549965162667143\n",
      "Epoch 23/30...\n"
     ]
    },
    {
     "name": "stderr",
     "output_type": "stream",
     "text": [
      "0.12153946608304977: 100%|██████████| 16720/16720 [00:07<00:00, 2298.01it/s] \n",
      "100%|██████████| 133758/133758 [00:08<00:00, 16223.50it/s]\n"
     ]
    },
    {
     "name": "stdout",
     "output_type": "stream",
     "text": [
      "Train  0.07689512117178224\n",
      "Test  0.0658407702932002\n",
      "Epoch 24/30...\n"
     ]
    },
    {
     "name": "stderr",
     "output_type": "stream",
     "text": [
      "0.14061486721038818: 100%|██████████| 16720/16720 [00:07<00:00, 2182.69it/s] \n",
      "100%|██████████| 133758/133758 [00:08<00:00, 16150.23it/s]\n"
     ]
    },
    {
     "name": "stdout",
     "output_type": "stream",
     "text": [
      "Train  0.0865981137834578\n",
      "Test  0.06655332529578678\n",
      "Epoch 25/30...\n"
     ]
    },
    {
     "name": "stderr",
     "output_type": "stream",
     "text": [
      "0.006682209670543671: 100%|██████████| 16720/16720 [00:07<00:00, 2255.56it/s] \n",
      "100%|██████████| 133758/133758 [00:08<00:00, 15897.16it/s]\n"
     ]
    },
    {
     "name": "stdout",
     "output_type": "stream",
     "text": [
      "Train  0.08992513806913935\n",
      "Test  0.0728873326488304\n",
      "Epoch 26/30...\n"
     ]
    },
    {
     "name": "stderr",
     "output_type": "stream",
     "text": [
      "0.05816235393285751: 100%|██████████| 16720/16720 [00:07<00:00, 2163.73it/s] \n",
      "100%|██████████| 133758/133758 [00:08<00:00, 16276.38it/s]\n"
     ]
    },
    {
     "name": "stdout",
     "output_type": "stream",
     "text": [
      "Train  0.07444410273871784\n",
      "Test  0.07057061773642025\n",
      "Epoch 27/30...\n"
     ]
    },
    {
     "name": "stderr",
     "output_type": "stream",
     "text": [
      "0.00647574570029974: 100%|██████████| 16720/16720 [00:07<00:00, 2311.63it/s]  \n",
      "100%|██████████| 133758/133758 [00:08<00:00, 16608.07it/s]\n"
     ]
    },
    {
     "name": "stdout",
     "output_type": "stream",
     "text": [
      "Train  0.0885575353611438\n",
      "Test  0.06605202578874333\n",
      "Epoch 28/30...\n"
     ]
    },
    {
     "name": "stderr",
     "output_type": "stream",
     "text": [
      "0.18018023669719696: 100%|██████████| 16720/16720 [00:07<00:00, 2289.09it/s] \n",
      "100%|██████████| 133758/133758 [00:08<00:00, 15854.29it/s]\n"
     ]
    },
    {
     "name": "stdout",
     "output_type": "stream",
     "text": [
      "Train  0.07882623327618819\n",
      "Test  0.08429064520494658\n",
      "Epoch 29/30...\n"
     ]
    },
    {
     "name": "stderr",
     "output_type": "stream",
     "text": [
      "0.025189148262143135: 100%|██████████| 16720/16720 [00:07<00:00, 2254.23it/s] \n",
      "100%|██████████| 133758/133758 [00:08<00:00, 16130.06it/s]"
     ]
    },
    {
     "name": "stdout",
     "output_type": "stream",
     "text": [
      "Train  0.10845225103687317\n",
      "Test  0.06369116043121559\n"
     ]
    },
    {
     "name": "stderr",
     "output_type": "stream",
     "text": [
      "\n"
     ]
    }
   ],
   "source": [
    "train_losses = []\n",
    "test_losses = []\n",
    "\n",
    "num_epochs = 30\n",
    "\n",
    "for epoch in range(num_epochs):\n",
    "    print(f\"Epoch {epoch}/{num_epochs}...\")\n",
    "    epoch_train_losses = train(train_loader, model, loss_fn, optimizer)\n",
    "    epoch_test_losses = test(test_loader, model, loss_fn)\n",
    "    train_losses.append(np.mean(epoch_train_losses))\n",
    "    print(\"Train \", train_losses[-1])\n",
    "    test_losses.append(np.mean(epoch_test_losses))\n",
    "    print(\"Test \", test_losses[-1])"
   ]
  },
  {
   "cell_type": "code",
   "execution_count": 14,
   "metadata": {},
   "outputs": [
    {
     "data": {
      "text/plain": [
       "[<matplotlib.lines.Line2D at 0x285b78ee0>]"
      ]
     },
     "execution_count": 14,
     "metadata": {},
     "output_type": "execute_result"
    },
    {
     "data": {
      "image/png": "[encoded data removed]",
      "text/plain": [
       "<Figure size 432x288 with 1 Axes>"
      ]
     },
     "metadata": {
      "needs_background": "light"
     },
     "output_type": "display_data"
    }
   ],
   "source": [
    "plt.plot(test_losses, c=\"r\")\n",
    "plt.plot(train_losses, c=\"g\")"
   ]
  },
  {
   "cell_type": "code",
   "execution_count": 15,
   "metadata": {},
   "outputs": [],
   "source": [
    "model.eval()\n",
    "test_preds = [\n",
    "    model(feature) for feature, label in test_loader\n",
    "]"
   ]
  },
  {
   "cell_type": "code",
   "execution_count": 16,
   "metadata": {},
   "outputs": [],
   "source": [
    "test_preds = torch.Tensor(test_preds).tolist()"
   ]
  },
  {
   "cell_type": "code",
   "execution_count": 17,
   "metadata": {},
   "outputs": [],
   "source": [
    "fpr, tpr, thresholds = roc_curve(test_labels, test_preds)\n",
    "roc_auc = roc_auc_score(test_labels, test_preds)"
   ]
  },
  {
   "cell_type": "code",
   "execution_count": 18,
   "metadata": {},
   "outputs": [
    {
     "data": {
      "image/png": "[encoded data removed]",
      "text/plain": [
       "<Figure size 432x432 with 1 Axes>"
      ]
     },
     "metadata": {
      "needs_background": "light"
     },
     "output_type": "display_data"
    }
   ],
   "source": [
    "plt.figure(figsize=(6,6))\n",
    "plt.plot(fpr, tpr, color='darkred', label='ROC curve (area = %0.3f)' % roc_auc)\n",
    "plt.plot([0, 1], [0, 1], color='lightgray', linestyle='--')\n",
    "plt.xlim([0.0, 1.0])\n",
    "plt.ylim([0.0, 1.05])\n",
    "plt.xlabel('False Positive Rate')\n",
    "plt.ylabel('True Positive Rate')\n",
    "plt.title('Receiver Operating Characteristic Curve')\n",
    "plt.legend(loc=\"lower right\")\n",
    "plt.show()"
   ]
  },
  {
   "cell_type": "code",
   "execution_count": 19,
   "metadata": {},
   "outputs": [],
   "source": [
    "th = thresholds[np.argmax(tpr - fpr)]"
   ]
  },
  {
   "cell_type": "code",
   "execution_count": 20,
   "metadata": {},
   "outputs": [
    {
     "data": {
      "text/plain": [
       "0.9744695133320902"
      ]
     },
     "execution_count": 20,
     "metadata": {},
     "output_type": "execute_result"
    }
   ],
   "source": [
    "#test_preds = lr.predict(test_features)\n",
    "f1_score(test_labels, [pred > th for pred in test_preds])"
   ]
  },
  {
   "cell_type": "markdown",
   "metadata": {},
   "source": [
    "# Submissions"
   ]
  },
  {
   "cell_type": "code",
   "execution_count": 21,
   "metadata": {},
   "outputs": [],
   "source": [
    "with open(\"../data/testing_set.txt\", \"r\") as f:\n",
    "    reader = csv.reader(f)\n",
    "    samples = list(reader)"
   ]
  },
  {
   "cell_type": "code",
   "execution_count": 22,
   "metadata": {},
   "outputs": [],
   "source": [
    "samples = [sample[0].split() for sample in samples]"
   ]
  },
  {
   "cell_type": "code",
   "execution_count": 23,
   "metadata": {},
   "outputs": [],
   "source": [
    "with open(\"../data/node_information.csv\", \"r\") as f:\n",
    "    reader = csv.reader(f)\n",
    "    node_info = list(reader)\n",
    "\n",
    "nodes = [element[0] for element in node_info]\n",
    "\n",
    "with open(\"../data/training_set.txt\", \"r\") as f:\n",
    "    reader = csv.reader(\n",
    "        f,\n",
    "        delimiter=\" \",\n",
    "    )\n",
    "    train_dataset = list(reader)\n",
    "\n",
    "graph = create_graph(nodes, train_dataset)"
   ]
  },
  {
   "cell_type": "code",
   "execution_count": 24,
   "metadata": {},
   "outputs": [
    {
     "name": "stderr",
     "output_type": "stream",
     "text": [
      "100%|██████████| 32648/32648 [00:06<00:00, 5377.70it/s]\n",
      "100%|██████████| 32648/32648 [00:02<00:00, 11416.63it/s]\n",
      "100%|██████████| 32648/32648 [00:00<00:00, 347541.79it/s]\n"
     ]
    }
   ],
   "source": [
    "features = feature_extractor(\n",
    "    graph, samples, \n",
    "    features_method, \n",
    "    node_information_path=\"../data/node_information.csv\", wv=wv\n",
    ")"
   ]
  },
  {
   "cell_type": "code",
   "execution_count": 25,
   "metadata": {},
   "outputs": [],
   "source": [
    "#submit_dataset = TensorDataset(features)\n",
    "submit_loader = DataLoader(features, batch_size=1, shuffle=False)"
   ]
  },
  {
   "cell_type": "code",
   "execution_count": 26,
   "metadata": {},
   "outputs": [],
   "source": [
    "model.eval()\n",
    "submit_preds = [\n",
    "    int(model(feature.float())[0].item() > th) for feature in submit_loader\n",
    "]"
   ]
  },
  {
   "cell_type": "code",
   "execution_count": 27,
   "metadata": {},
   "outputs": [],
   "source": [
    "submission_df = pd.DataFrame(dict(category=submit_preds))"
   ]
  },
  {
   "cell_type": "code",
   "execution_count": 28,
   "metadata": {},
   "outputs": [],
   "source": [
    "submission_df = submission_df.reset_index()\n",
    "submission_df.columns = [\"id\", \"category\"]"
   ]
  },
  {
   "cell_type": "code",
   "execution_count": 29,
   "metadata": {},
   "outputs": [],
   "source": [
    "submission_df.to_csv(\"../submission5_with_textual_1.csv\", index=None)"
   ]
  }
 ],
 "metadata": {
  "interpreter": {
   "hash": "0c5c16a795e78dbd8789063ca49b148d7f66d65ea2e59d40746c1e781c09b2f1"
  },
  "kernelspec": {
   "display_name": "Python 3.9.10 64-bit ('mlns')",
   "language": "python",
   "name": "python3"
  },
  "language_info": {
   "codemirror_mode": {
    "name": "ipython",
    "version": 3
   },
   "file_extension": ".py",
   "mimetype": "text/x-python",
   "name": "python",
   "nbconvert_exporter": "python",
   "pygments_lexer": "ipython3",
   "version": "3.9.10"
  },
  "orig_nbformat": 4
 },
 "nbformat": 4,
 "nbformat_minor": 2
}
